{
 "cells": [
  {
   "cell_type": "markdown",
   "metadata": {},
   "source": [
    "# TSA - Assignment 2: ARMA Processes and Seasonal Processes"
   ]
  },
  {
   "cell_type": "markdown",
   "metadata": {},
   "source": [
    "### 1. Stability\n",
    "\n",
    "Let the process {Xt} be an AR(2) given by:\n",
    "\n",
    "$$X_t + ϕ_1 X_{t−1} + ϕ_2 X_{t−2} = ϵ_t$$\n",
    "\n",
    "where $\\set{ϵ_t}$ is a white noise process with $σ_ε = 1$."
   ]
  },
  {
   "cell_type": "markdown",
   "metadata": {},
   "source": [
    "##### 1.1. Determine if the process is stationary for $ϕ_1 = −0.7$ and $ϕ_2 = −0.2$ by analysing the roots of the characteristic equation.\n"
   ]
  },
  {
   "cell_type": "markdown",
   "metadata": {},
   "source": [
    "**Solution:**\n",
    "\n",
    "Basically follow the rules on page 12 from lecture5. For the auto-regression AR(p=2) model for a stochastic process represented by random variable $X$, it is always invertible and is considered to be stationary, if its distribution does not change over time.\n",
    "That is the case, if all roots of $\\Phi(z^{-1})$ lie in the unit circle."
   ]
  },
  {
   "cell_type": "code",
   "execution_count": null,
   "metadata": {
    "vscode": {
     "languageId": "plaintext"
    }
   },
   "outputs": [],
   "source": [
    "WTF is the characteristic equation?\n",
    "    - Idea: produce the AR in matrix form\n",
    "    - take X as the Operator\n",
    "    - deduce the characteristic polynomial (Spectral & Eigenvalue)\n",
    "    - determine roots/eigenvalues of that polynomial\n",
    "\n",
    "- otherwise: https://en.wikipedia.org/wiki/Autoregressive_model under spectrum\n",
    "- set B = z^-1 and multiply all by z^2"
   ]
  },
  {
   "cell_type": "markdown",
   "metadata": {},
   "source": [
    "##### 1.2. Is the process invertible?\n"
   ]
  },
  {
   "cell_type": "markdown",
   "metadata": {},
   "source": [
    "##### 1.3. Write the autocorrelation ρ(k) for the AR(2) process as function of $ϕ_1$ and $ϕ_2$.\n"
   ]
  },
  {
   "cell_type": "markdown",
   "metadata": {},
   "source": [
    "##### 1.4. Plot the autocorrelation $ρ(k)$ up to $n_{\\text{lag}} = 30$ for the coefficient values above."
   ]
  },
  {
   "cell_type": "markdown",
   "metadata": {},
   "source": []
  }
 ],
 "metadata": {
  "language_info": {
   "name": "python"
  }
 },
 "nbformat": 4,
 "nbformat_minor": 2
}
