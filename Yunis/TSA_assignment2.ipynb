{
 "cells": [
  {
   "cell_type": "markdown",
   "metadata": {},
   "source": [
    "# TSA - Assignment 2: ARMA Processes and Seasonal Processes"
   ]
  },
  {
   "cell_type": "markdown",
   "metadata": {},
   "source": [
    "### 1. Stability\n",
    "\n",
    "Let the process {Xt} be an AR(2) given by:\n",
    "\n",
    "$$X_t + ϕ_1 X_{t−1} + ϕ_2 X_{t−2} = ϵ_t$$\n",
    "\n",
    "where $\\set{ϵ_t}$ is a white noise process with $σ_ε = 1$."
   ]
  },
  {
   "cell_type": "markdown",
   "metadata": {},
   "source": [
    "##### 1.1. Determine if the process is stationary for $ϕ_1 = −0.7$ and $ϕ_2 = −0.2$ by analysing the roots of the characteristic equation.\n"
   ]
  },
  {
   "cell_type": "markdown",
   "metadata": {},
   "source": [
    "**Solution:**\n",
    "\n",
    "Basically follow the rules on page 12 from lecture5. For the auto-regression AR(p=2) model for a stochastic process represented by random variable $X$, it is always invertible and is considered to be stationary, if its distribution does not change over time.\n",
    "That is the case, if all roots of $\\Phi(z^{-1})$ lie in the unit circle."
   ]
  },
  {
   "cell_type": "markdown",
   "metadata": {
    "vscode": {
     "languageId": "plaintext"
    }
   },
   "source": [
    "WTF is the characteristic equation?\n",
    "    - Idea: produce the AR in matrix form\n",
    "    - take X as the Operator\n",
    "    - deduce the characteristic polynomial (Spectral & Eigenvalue)\n",
    "    - determine roots/eigenvalues of that polynomial\n",
    "\n",
    "- otherwise: https://en.wikipedia.org/wiki/Autoregressive_model under spectrum\n",
    "- set B = z^-1 and multiply all by z^2"
   ]
  },
  {
   "cell_type": "markdown",
   "metadata": {},
   "source": [
    "##### 1.2. Is the process invertible?\n"
   ]
  },
  {
   "cell_type": "markdown",
   "metadata": {},
   "source": [
    "##### 1.3. Write the autocorrelation ρ(k) for the AR(2) process as function of $ϕ_1$ and $ϕ_2$.\n"
   ]
  },
  {
   "cell_type": "markdown",
   "metadata": {},
   "source": [
    "##### 1.4. Plot the autocorrelation $ρ(k)$ up to $n_{\\text{lag}} = 30$ for the coefficient values above."
   ]
  },
  {
   "cell_type": "code",
   "execution_count": 1,
   "metadata": {},
   "outputs": [],
   "source": [
    "import matplotlib.pyplot as plt\n",
    "import seaborn as sns\n",
    "from statsmodels.tsa.statespace.sarimax import SARIMAX\n",
    "from statsmodels.graphics.tsaplots import plot_acf, plot_pacf\n",
    "from pathlib import Path\n",
    "\n",
    "sns.set_theme(style=\"whitegrid\", rc={\"figure.figsize\": (8, 4)})\n",
    "\n",
    "DPI_EXPORT = 600\n",
    "ASSIGNMENT_DIR = Path().resolve()\n",
    "OUTPUT_DIR = ASSIGNMENT_DIR / \"img\" / \"out_\" "
   ]
  },
  {
   "cell_type": "code",
   "execution_count": null,
   "metadata": {},
   "outputs": [],
   "source": []
  },
  {
   "cell_type": "markdown",
   "metadata": {},
   "source": [
    "_________"
   ]
  },
  {
   "cell_type": "markdown",
   "metadata": {},
   "source": [
    "### 2. Simulating seasonal processes "
   ]
  },
  {
   "cell_type": "markdown",
   "metadata": {},
   "source": [
    "A process $\\set{Y_t}$ is said to follow a multiplicative $(p, d, q) × (P, D, Q)_s$ seasonal model if\n",
    "\n",
    "$$ϕ(B) Φ(B_s) ∇^d ∇^D_s Y_t = θ(B) \\Theta(B^s) ϵ_t$$\n",
    "\n",
    "where $\\set{ϵ_t}$ is a white noise process, and $ϕ(B)$ and $θ(B)$ are polynomials (in $B$) of order $p$ and $q$, respectively.\n",
    "\n",
    "Furthermore, $\\Psi(B^s)$ and $\\Theta(B^s)$ are polynomials in $B^s$. All according to Definition 5.22 in the textbook.\n",
    "\n",
    "*Note:* In R ```arima.sim``` does not have a seasonal module, so model formulations as standard ARIMA processes have to be made when using that function.\n",
    "Simulate the following models. Plot the simulations and the associated autocorrelation functions (ACF and PACF). Comment on each result:"
   ]
  },
  {
   "cell_type": "markdown",
   "metadata": {},
   "source": [
    "**Explanation**:\n",
    "\n",
    "It's best to explain the role of some variables in the model:\n",
    "\n",
    "$$\\begin{align*}\n",
    "s &\\to \\text{seasonal shift} && \\text{convolution onto AR, MA, ARMA} \\\\\n",
    "p &\\to \\text{lag of time-series} && \\text{for AR, polynomial order}  \\\\\n",
    "& && \\phi(B) Y_t = Y_t (1 + \\phi_1 B + \\phi_2 B^2 ... \\phi_p B^p) = \\varepsilon_t \\\\\n",
    "q &\\to \\text{lag of random noise} && \\text{for MA, polynomial order}  \\\\\n",
    "& && \\theta(B) \\varepsilon_t = \\varepsilon_t (1 + \\theta_1 B + \\theta_2 B^2 ... \\theta_p B^p) = Y_t \\\\\n",
    "\\phi &\\to \\text{AR}(p) && \\text{coeff. for the auto-regressive part} \\\\\n",
    "\\Phi &\\to \\text{AR}(P) && \\text{coeff. for the seasonal auto-regressive part} \\\\\n",
    "\\theta &\\to \\text{MA}(q) && \\text{coeff. for the moving-average part} \\\\\n",
    "\\Theta &\\to \\text{AR}(P) && \\text{coeff. for the seasonal moving-average part} \\\\\n",
    "& && \\text{that's why shift } B^s \\\\\n",
    "\\nabla^d &\\to \\nabla^d Y_t = Y_t - Y_{t+d} && \\text{difference shift of normal model} \\\\\n",
    "\\nabla^D_s &\\to \\nabla^D_s Y_{t} = Y_{t+s} - Y_{t+s+d} && \\text{difference shift of seasonal model} \\\\\n",
    "\\end{align*}"
   ]
  },
  {
   "cell_type": "markdown",
   "metadata": {},
   "source": [
    "##### 2.1. $A (1, 0, 0) × (0, 0, 0)_{12}$ model with the parameter $ϕ_1 = 0.6$\n",
    "##### 2.2. $A (0, 0, 0) × (1, 0, 0)_{12}$ model with the parameter $\\Phi_1 = -0.9$\n",
    "##### 2.3. $A (1, 0, 0) × (0, 0, 1)_{12}$ model with the parameter $\\phi_1 = 0.9$ and $\\Theta_1 = -0.7$\n",
    "##### 2.4. $A (1, 0, 0) × (1, 0, 0)_{12}$ model with the parameter $\\phi_1 = -0.6$ and $\\Phi_1 = -0.8$\n",
    "##### 2.5. $A (0, 0, 1) × (0, 0, 1)_{12}$ model with the parameter $\\theta_1 = 0.4$ and $\\Theta_1 = -0.8$\n",
    "##### 2.5. $A (0, 0, 1) × (1, 0, 0)_{12}$ model with the parameter $\\theta_1 = -0.4$ and $\\Phi_1 = 0.7$"
   ]
  },
  {
   "cell_type": "code",
   "execution_count": 18,
   "metadata": {},
   "outputs": [
    {
     "data": {
      "text/plain": [
       "['ar.L1', 'ar.L2', 'ma.L1', 'ar.S.L12', 'ma.S.L12', 'ma.S.L24', 'sigma2']"
      ]
     },
     "execution_count": 18,
     "metadata": {},
     "output_type": "execute_result"
    }
   ],
   "source": [
    "# figure out model params ordering for simulation\n",
    "SARIMAX([], order=(2,1,1), seasonal_order=(1,1,2,12)).param_names"
   ]
  },
  {
   "cell_type": "code",
   "execution_count": 25,
   "metadata": {},
   "outputs": [
    {
     "ename": "TypeError",
     "evalue": "can only concatenate list (not \"NoneType\") to list",
     "output_type": "error",
     "traceback": [
      "\u001b[0;31m---------------------------------------------------------------------------\u001b[0m",
      "\u001b[0;31mTypeError\u001b[0m                                 Traceback (most recent call last)",
      "Cell \u001b[0;32mIn[25], line 34\u001b[0m\n\u001b[1;32m     30\u001b[0m     plot_pacf(data)\n\u001b[1;32m     32\u001b[0m     plt\u001b[38;5;241m.\u001b[39mtight_layout()\n\u001b[0;32m---> 34\u001b[0m plot_model(((\u001b[38;5;241m1\u001b[39m,\u001b[38;5;241m0\u001b[39m,\u001b[38;5;241m0\u001b[39m), (\u001b[38;5;241m0\u001b[39m,\u001b[38;5;241m0\u001b[39m,\u001b[38;5;241m0\u001b[39m,\u001b[38;5;241m12\u001b[39m)), [\u001b[38;5;241m0.6\u001b[39m])\n",
      "Cell \u001b[0;32mIn[25], line 17\u001b[0m, in \u001b[0;36mplot_model\u001b[0;34m(model_params, phis, thetas, Phis, Thetas)\u001b[0m\n\u001b[1;32m     15\u001b[0m data \u001b[38;5;241m=\u001b[39m []\n\u001b[1;32m     16\u001b[0m \u001b[38;5;28;01mif\u001b[39;00m phis \u001b[38;5;129;01mor\u001b[39;00m Phis \u001b[38;5;129;01mor\u001b[39;00m thetas \u001b[38;5;129;01mor\u001b[39;00m Thetas:\n\u001b[0;32m---> 17\u001b[0m     params \u001b[38;5;241m=\u001b[39m phis\u001b[38;5;241m+\u001b[39mthetas\u001b[38;5;241m+\u001b[39mPhis\u001b[38;5;241m+\u001b[39mThetas\n\u001b[1;32m     18\u001b[0m     data \u001b[38;5;241m=\u001b[39m model\u001b[38;5;241m.\u001b[39msimulate(params, n, measurement_shocks\u001b[38;5;241m=\u001b[39meps)\n\u001b[1;32m     19\u001b[0m \u001b[38;5;28mprint\u001b[39m(data)\n",
      "\u001b[0;31mTypeError\u001b[0m: can only concatenate list (not \"NoneType\") to list"
     ]
    }
   ],
   "source": [
    "from typing import Tuple, List\n",
    "import numpy as np\n",
    "\n",
    "# model params ((p,d,q), (P,D,Q,s))\n",
    "def plot_model(model_params:Tuple[Tuple[int, int, int], Tuple[int, int, int, int]], phis:List[float]=None, thetas:List[float]=None, Phis:List[float]=None, Thetas:List[float]=None):\n",
    "    sigma2_init = 1     # initialze the variance of the stochastic variable eps\n",
    "    n = 1000            # number of points to simulate\n",
    "    eps = np.random.normal(0, sigma2_init, n)\n",
    "\n",
    "    # create the basic model\n",
    "    model = SARIMAX([], order=model_params[0], seasonal_order=model_params[1])\n",
    "    model = SARIMAX(np.random.normal(0,1,100), order=model_params[0], seasonal_order=model_params[1])\n",
    "\n",
    "    # set the coefficients for simulation\n",
    "    data = []\n",
    "    if phis or Phis or thetas or Thetas:\n",
    "        params = phis+thetas+Phis+Thetas\n",
    "        data = model.simulate(params, n, measurement_shocks=eps)\n",
    "    print(data)\n",
    "\n",
    "    # plot the data\n",
    "    plt.figure(dpi=DPI_EXPORT)\n",
    "    plt.subplot(2,1,1)\n",
    "    sns.lineplot(data)\n",
    "\n",
    "    plt.subplot(2,2,3)\n",
    "    plot_acf(data)\n",
    "\n",
    "    plt.subplot(2,2,4)\n",
    "    plot_pacf(data)\n",
    "\n",
    "    plt.tight_layout()\n",
    "\n",
    "plot_model(((1,0,0), (0,0,0,12)), [0.6])"
   ]
  },
  {
   "cell_type": "code",
   "execution_count": 15,
   "metadata": {},
   "outputs": [
    {
     "data": {
      "text/plain": [
       "[1, 2, 8, 2]"
      ]
     },
     "execution_count": 15,
     "metadata": {},
     "output_type": "execute_result"
    }
   ],
   "source": [
    "[1,2]+[8,2]"
   ]
  },
  {
   "cell_type": "markdown",
   "metadata": {},
   "source": [
    "________"
   ]
  },
  {
   "cell_type": "markdown",
   "metadata": {},
   "source": [
    "### 3 Identifying ARMA models\n",
    "\n",
    "Below are plots of three simulated ARMA processes: time series plot, ACF and PACF. Guess the ARMA model structure for each of them, and give a short reasoning of your guess."
   ]
  },
  {
   "cell_type": "markdown",
   "metadata": {},
   "source": [
    "##### Process 1\n",
    "\n",
    "![ARMA Process 1](./img/process1.png)"
   ]
  },
  {
   "cell_type": "markdown",
   "metadata": {},
   "source": [
    "white noise! \n",
    "- clearly only correlated to itself\n",
    "- ACF at 1 for $k=0$ and then ACF(k>0) $\\approx$ 0"
   ]
  },
  {
   "cell_type": "markdown",
   "metadata": {},
   "source": [
    "##### Process 2\n",
    "\n",
    "![ARMA Process 2](./img/process2.png)"
   ]
  },
  {
   "cell_type": "markdown",
   "metadata": {},
   "source": [
    "AR(2) model\n",
    "- exponential dampening in ACF, then close to 0 (below CI boundries)\n",
    "- PACF above 95%-CI at k=2 and $k \\approx 16 \\Rightarrow p = 2$\n",
    "- the upper PACF peak could be random effects "
   ]
  },
  {
   "cell_type": "markdown",
   "metadata": {},
   "source": [
    "##### Process 3\n",
    "\n",
    "![ARMA Process 3](./img/process3.png)"
   ]
  },
  {
   "cell_type": "markdown",
   "metadata": {},
   "source": [
    "ARMA $(5, 0, 0) \\times (0,0,1)_{12}$\n",
    "- does have both effects\n",
    "- some kind of seasonality:\n",
    "    - could also be $s=24$\n",
    "- AR effects are clearly visible in PACF"
   ]
  }
 ],
 "metadata": {
  "kernelspec": {
   "display_name": "bml",
   "language": "python",
   "name": "python3"
  },
  "language_info": {
   "codemirror_mode": {
    "name": "ipython",
    "version": 3
   },
   "file_extension": ".py",
   "mimetype": "text/x-python",
   "name": "python",
   "nbconvert_exporter": "python",
   "pygments_lexer": "ipython3",
   "version": "3.11.11"
  }
 },
 "nbformat": 4,
 "nbformat_minor": 2
}
